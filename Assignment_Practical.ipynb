{
  "nbformat": 4,
  "nbformat_minor": 0,
  "metadata": {
    "colab": {
      "provenance": []
    },
    "kernelspec": {
      "name": "python3",
      "display_name": "Python 3"
    },
    "language_info": {
      "name": "python"
    }
  },
  "cells": [
    {
      "cell_type": "code",
      "execution_count": null,
      "metadata": {
        "id": "_JUL1ClBCHoo"
      },
      "outputs": [],
      "source": []
    },
    {
      "cell_type": "markdown",
      "source": [
        "1. Write a Python function that takes a list of numbers as input and returns the sum of all even numbers in\n",
        "the list."
      ],
      "metadata": {
        "id": "dGZC3KNoCPbq"
      }
    },
    {
      "cell_type": "code",
      "source": [
        "def sum_of_even_numbers(numbers):\n",
        "    return sum(num for num in numbers if num % 2 == 0)\n",
        "\n",
        "# Example usage\n",
        "numbers = [1, 2, 3, 4, 5, 6]\n",
        "result = sum_of_even_numbers(numbers)\n",
        "print(result)  # Outputs 12 (2 + 4 + 6)\n"
      ],
      "metadata": {
        "colab": {
          "base_uri": "https://localhost:8080/"
        },
        "id": "oUutsrEvCQzb",
        "outputId": "ded05460-37b0-43d0-b551-bcd259831b56"
      },
      "execution_count": 1,
      "outputs": [
        {
          "output_type": "stream",
          "name": "stdout",
          "text": [
            "12\n"
          ]
        }
      ]
    },
    {
      "cell_type": "code",
      "source": [],
      "metadata": {
        "id": "uoUrknQbCUAV"
      },
      "execution_count": null,
      "outputs": []
    },
    {
      "cell_type": "markdown",
      "source": [
        "2. Create a Python function that accepts a string and returns the reverse of that string."
      ],
      "metadata": {
        "id": "haEzPJrCCcg_"
      }
    },
    {
      "cell_type": "code",
      "source": [
        "def reverse_string(s):\n",
        "    return s[::-1]\n",
        "\n",
        "# Example usage\n",
        "input_string = \"hello\"\n",
        "reversed_string = reverse_string(input_string)\n",
        "print(reversed_string)  # Outputs \"olleh\"\n"
      ],
      "metadata": {
        "colab": {
          "base_uri": "https://localhost:8080/"
        },
        "id": "rUJRvsbcCdFC",
        "outputId": "8ef09c80-f954-41d5-87ab-70d0c3172b88"
      },
      "execution_count": 2,
      "outputs": [
        {
          "output_type": "stream",
          "name": "stdout",
          "text": [
            "olleh\n"
          ]
        }
      ]
    },
    {
      "cell_type": "code",
      "source": [],
      "metadata": {
        "id": "ADlsGIZXCf17"
      },
      "execution_count": null,
      "outputs": []
    },
    {
      "cell_type": "markdown",
      "source": [
        "3. Implement a Python function that takes a list of integers and returns a new list containing the squares of\n",
        "each number."
      ],
      "metadata": {
        "id": "vd2UB8JzCldg"
      }
    },
    {
      "cell_type": "code",
      "source": [
        "def square_numbers(numbers):\n",
        "    return [num ** 2 for num in numbers]\n",
        "\n",
        "# Example usage\n",
        "numbers = [1, 2, 3, 4, 5]\n",
        "squared_numbers = square_numbers(numbers)\n",
        "print(squared_numbers)  # Outputs [1, 4, 9, 16, 25]\n"
      ],
      "metadata": {
        "colab": {
          "base_uri": "https://localhost:8080/"
        },
        "id": "WUQqbfCZCmCy",
        "outputId": "bf33b483-53e9-4812-b952-d35b9b726de1"
      },
      "execution_count": 3,
      "outputs": [
        {
          "output_type": "stream",
          "name": "stdout",
          "text": [
            "[1, 4, 9, 16, 25]\n"
          ]
        }
      ]
    },
    {
      "cell_type": "code",
      "source": [],
      "metadata": {
        "id": "Cqnou-VNCpuj"
      },
      "execution_count": null,
      "outputs": []
    },
    {
      "cell_type": "markdown",
      "source": [
        "4. Write a Python function that checks if a given number is prime or not from 1 to 200.\n"
      ],
      "metadata": {
        "id": "CKFNephFCr53"
      }
    },
    {
      "cell_type": "code",
      "source": [
        "def is_prime(number):\n",
        "    if number <= 1:\n",
        "        return False\n",
        "    for i in range(2, int(number ** 0.5) + 1):\n",
        "        if number % i == 0:\n",
        "            return False\n",
        "    return True\n",
        "\n",
        "# Example usage\n",
        "for num in range(1, 201):\n",
        "    if is_prime(num):\n",
        "        print(num, \"is prime\")\n"
      ],
      "metadata": {
        "colab": {
          "base_uri": "https://localhost:8080/"
        },
        "id": "diD4h10FCs1S",
        "outputId": "93423b11-30ae-4bbd-c60c-cc39801d386d"
      },
      "execution_count": 4,
      "outputs": [
        {
          "output_type": "stream",
          "name": "stdout",
          "text": [
            "2 is prime\n",
            "3 is prime\n",
            "5 is prime\n",
            "7 is prime\n",
            "11 is prime\n",
            "13 is prime\n",
            "17 is prime\n",
            "19 is prime\n",
            "23 is prime\n",
            "29 is prime\n",
            "31 is prime\n",
            "37 is prime\n",
            "41 is prime\n",
            "43 is prime\n",
            "47 is prime\n",
            "53 is prime\n",
            "59 is prime\n",
            "61 is prime\n",
            "67 is prime\n",
            "71 is prime\n",
            "73 is prime\n",
            "79 is prime\n",
            "83 is prime\n",
            "89 is prime\n",
            "97 is prime\n",
            "101 is prime\n",
            "103 is prime\n",
            "107 is prime\n",
            "109 is prime\n",
            "113 is prime\n",
            "127 is prime\n",
            "131 is prime\n",
            "137 is prime\n",
            "139 is prime\n",
            "149 is prime\n",
            "151 is prime\n",
            "157 is prime\n",
            "163 is prime\n",
            "167 is prime\n",
            "173 is prime\n",
            "179 is prime\n",
            "181 is prime\n",
            "191 is prime\n",
            "193 is prime\n",
            "197 is prime\n",
            "199 is prime\n"
          ]
        }
      ]
    },
    {
      "cell_type": "code",
      "source": [],
      "metadata": {
        "id": "w5PZb1o1Cvu7"
      },
      "execution_count": null,
      "outputs": []
    },
    {
      "cell_type": "markdown",
      "source": [
        "5. Create an iterator class in Python that generates the Fibonacci sequence up to a specified number of\n",
        "terms.\n"
      ],
      "metadata": {
        "id": "03jzuw1SCz-3"
      }
    },
    {
      "cell_type": "code",
      "source": [
        "class FibonacciIterator:\n",
        "    def __init__(self, terms):\n",
        "        self.terms = terms\n",
        "        self.current = 0\n",
        "        self.next_value = 1\n",
        "        self.count = 0\n",
        "\n",
        "    def __iter__(self):\n",
        "        return self\n",
        "\n",
        "    def __next__(self):\n",
        "        if self.count >= self.terms:\n",
        "            raise StopIteration\n",
        "        if self.count == 0:\n",
        "            self.count += 1\n",
        "            return 0\n",
        "        elif self.count == 1:\n",
        "            self.count += 1\n",
        "            return 1\n",
        "        else:\n",
        "            fib_number = self.current + self.next_value\n",
        "            self.current = self.next_value\n",
        "            self.next_value = fib_number\n",
        "            self.count += 1\n",
        "            return fib_number\n",
        "\n",
        "# Example usage\n",
        "fib = FibonacciIterator(10)  # Generate the first 10 Fibonacci numbers\n",
        "for num in fib:\n",
        "    print(num)\n"
      ],
      "metadata": {
        "colab": {
          "base_uri": "https://localhost:8080/"
        },
        "id": "5YYtTKkmDH5i",
        "outputId": "5e844e1c-9495-4aad-bd38-962aa5e35636"
      },
      "execution_count": 8,
      "outputs": [
        {
          "output_type": "stream",
          "name": "stdout",
          "text": [
            "0\n",
            "1\n",
            "1\n",
            "2\n",
            "3\n",
            "5\n",
            "8\n",
            "13\n",
            "21\n",
            "34\n"
          ]
        }
      ]
    },
    {
      "cell_type": "code",
      "source": [],
      "metadata": {
        "id": "lxn8StY2DIqq"
      },
      "execution_count": null,
      "outputs": []
    },
    {
      "cell_type": "markdown",
      "source": [
        "6. Write a generator function in Python that yields the powers of 2 up to a given exponent."
      ],
      "metadata": {
        "id": "FUTHmz3aDLbX"
      }
    },
    {
      "cell_type": "code",
      "source": [
        "def powers_of_two(exponent):\n",
        "    for i in range(exponent + 1):\n",
        "        yield 2 ** i\n",
        "\n",
        "# Example usage\n",
        "for power in powers_of_two(5):  # Generate powers of 2 up to 2^5\n",
        "    print(power)\n"
      ],
      "metadata": {
        "colab": {
          "base_uri": "https://localhost:8080/"
        },
        "id": "u6tuGCiEDL1i",
        "outputId": "7ef085a8-75a5-459a-f0b9-d448151260e3"
      },
      "execution_count": 9,
      "outputs": [
        {
          "output_type": "stream",
          "name": "stdout",
          "text": [
            "1\n",
            "2\n",
            "4\n",
            "8\n",
            "16\n",
            "32\n"
          ]
        }
      ]
    },
    {
      "cell_type": "code",
      "source": [],
      "metadata": {
        "id": "4HPEYi63DPX7"
      },
      "execution_count": null,
      "outputs": []
    },
    {
      "cell_type": "markdown",
      "source": [
        "7. Implement a generator function that reads a file line by line and yields each line as a string."
      ],
      "metadata": {
        "id": "DhfyU5o0DRl_"
      }
    },
    {
      "cell_type": "code",
      "source": [
        "def read_file_lines(filename):\n",
        "    with open(filename, 'r') as file:\n",
        "        for line in file:\n",
        "            yield line.strip()  # Using strip() to remove any leading/trailing whitespace\n",
        "\n",
        "# Example usage (assuming 'example.txt' is a valid file)\n",
        "for line in read_file_lines('example.txt'):\n",
        "    print(line)\n"
      ],
      "metadata": {
        "colab": {
          "base_uri": "https://localhost:8080/",
          "height": 315
        },
        "id": "cjr9tQPxDR-i",
        "outputId": "b09d6382-2331-4804-a789-9428ef18ecf1"
      },
      "execution_count": 10,
      "outputs": [
        {
          "output_type": "error",
          "ename": "FileNotFoundError",
          "evalue": "[Errno 2] No such file or directory: 'example.txt'",
          "traceback": [
            "\u001b[0;31m---------------------------------------------------------------------------\u001b[0m",
            "\u001b[0;31mFileNotFoundError\u001b[0m                         Traceback (most recent call last)",
            "\u001b[0;32m<ipython-input-10-d18f49ca5f01>\u001b[0m in \u001b[0;36m<cell line: 7>\u001b[0;34m()\u001b[0m\n\u001b[1;32m      5\u001b[0m \u001b[0;34m\u001b[0m\u001b[0m\n\u001b[1;32m      6\u001b[0m \u001b[0;31m# Example usage (assuming 'example.txt' is a valid file)\u001b[0m\u001b[0;34m\u001b[0m\u001b[0;34m\u001b[0m\u001b[0m\n\u001b[0;32m----> 7\u001b[0;31m \u001b[0;32mfor\u001b[0m \u001b[0mline\u001b[0m \u001b[0;32min\u001b[0m \u001b[0mread_file_lines\u001b[0m\u001b[0;34m(\u001b[0m\u001b[0;34m'example.txt'\u001b[0m\u001b[0;34m)\u001b[0m\u001b[0;34m:\u001b[0m\u001b[0;34m\u001b[0m\u001b[0;34m\u001b[0m\u001b[0m\n\u001b[0m\u001b[1;32m      8\u001b[0m     \u001b[0mprint\u001b[0m\u001b[0;34m(\u001b[0m\u001b[0mline\u001b[0m\u001b[0;34m)\u001b[0m\u001b[0;34m\u001b[0m\u001b[0;34m\u001b[0m\u001b[0m\n",
            "\u001b[0;32m<ipython-input-10-d18f49ca5f01>\u001b[0m in \u001b[0;36mread_file_lines\u001b[0;34m(filename)\u001b[0m\n\u001b[1;32m      1\u001b[0m \u001b[0;32mdef\u001b[0m \u001b[0mread_file_lines\u001b[0m\u001b[0;34m(\u001b[0m\u001b[0mfilename\u001b[0m\u001b[0;34m)\u001b[0m\u001b[0;34m:\u001b[0m\u001b[0;34m\u001b[0m\u001b[0;34m\u001b[0m\u001b[0m\n\u001b[0;32m----> 2\u001b[0;31m     \u001b[0;32mwith\u001b[0m \u001b[0mopen\u001b[0m\u001b[0;34m(\u001b[0m\u001b[0mfilename\u001b[0m\u001b[0;34m,\u001b[0m \u001b[0;34m'r'\u001b[0m\u001b[0;34m)\u001b[0m \u001b[0;32mas\u001b[0m \u001b[0mfile\u001b[0m\u001b[0;34m:\u001b[0m\u001b[0;34m\u001b[0m\u001b[0;34m\u001b[0m\u001b[0m\n\u001b[0m\u001b[1;32m      3\u001b[0m         \u001b[0;32mfor\u001b[0m \u001b[0mline\u001b[0m \u001b[0;32min\u001b[0m \u001b[0mfile\u001b[0m\u001b[0;34m:\u001b[0m\u001b[0;34m\u001b[0m\u001b[0;34m\u001b[0m\u001b[0m\n\u001b[1;32m      4\u001b[0m             \u001b[0;32myield\u001b[0m \u001b[0mline\u001b[0m\u001b[0;34m.\u001b[0m\u001b[0mstrip\u001b[0m\u001b[0;34m(\u001b[0m\u001b[0;34m)\u001b[0m  \u001b[0;31m# Using strip() to remove any leading/trailing whitespace\u001b[0m\u001b[0;34m\u001b[0m\u001b[0;34m\u001b[0m\u001b[0m\n\u001b[1;32m      5\u001b[0m \u001b[0;34m\u001b[0m\u001b[0m\n",
            "\u001b[0;31mFileNotFoundError\u001b[0m: [Errno 2] No such file or directory: 'example.txt'"
          ]
        }
      ]
    },
    {
      "cell_type": "code",
      "source": [],
      "metadata": {
        "id": "5IQT03r3DWY7"
      },
      "execution_count": null,
      "outputs": []
    },
    {
      "cell_type": "markdown",
      "source": [
        "8. Use a lambda function in Python to sort a list of tuples based on the second element of each tuple."
      ],
      "metadata": {
        "id": "kgN8EUx9Di5P"
      }
    },
    {
      "cell_type": "code",
      "source": [
        "# List of tuples\n",
        "tuples = [(1, 3), (2, 1), (4, 2), (5, 0)]\n",
        "\n",
        "# Sorting using a lambda function\n",
        "sorted_tuples = sorted(tuples, key=lambda x: x[1])\n",
        "\n",
        "# Print the sorted list\n",
        "print(sorted_tuples)\n"
      ],
      "metadata": {
        "colab": {
          "base_uri": "https://localhost:8080/"
        },
        "id": "8jEIWONqDjOj",
        "outputId": "74d4abed-86e6-448d-fe7e-59fb270d2218"
      },
      "execution_count": 11,
      "outputs": [
        {
          "output_type": "stream",
          "name": "stdout",
          "text": [
            "[(5, 0), (2, 1), (4, 2), (1, 3)]\n"
          ]
        }
      ]
    },
    {
      "cell_type": "code",
      "source": [],
      "metadata": {
        "id": "GHv89R0YDn4y"
      },
      "execution_count": null,
      "outputs": []
    },
    {
      "cell_type": "markdown",
      "source": [
        "9. Write a Python program that uses `map()` to convert a list of temperatures from Celsius to Fahrenheit."
      ],
      "metadata": {
        "id": "pX-BjmRDDq6X"
      }
    },
    {
      "cell_type": "code",
      "source": [
        "# List of temperatures in Celsius\n",
        "celsius_temps = [0, 20, 30, 40, 100]\n",
        "\n",
        "# Function to convert Celsius to Fahrenheit\n",
        "def celsius_to_fahrenheit(celsius):\n",
        "    return (celsius * 9/5) + 32\n",
        "\n",
        "# Using map() to convert Celsius to Fahrenheit\n",
        "fahrenheit_temps = map(celsius_to_fahrenheit, celsius_temps)\n",
        "\n",
        "# Converting the result to a list and printing\n",
        "print(list(fahrenheit_temps))\n"
      ],
      "metadata": {
        "colab": {
          "base_uri": "https://localhost:8080/"
        },
        "id": "BT43PgpYDrQS",
        "outputId": "fa8edd48-b47a-489d-fd1b-1139d68fe0b1"
      },
      "execution_count": 12,
      "outputs": [
        {
          "output_type": "stream",
          "name": "stdout",
          "text": [
            "[32.0, 68.0, 86.0, 104.0, 212.0]\n"
          ]
        }
      ]
    },
    {
      "cell_type": "code",
      "source": [],
      "metadata": {
        "id": "YMEfbSSTDuwz"
      },
      "execution_count": null,
      "outputs": []
    },
    {
      "cell_type": "markdown",
      "source": [
        "10. Create a Python program that uses `filter()` to remove all the vowels from a given string."
      ],
      "metadata": {
        "id": "JQuveR2VEwuv"
      }
    },
    {
      "cell_type": "code",
      "source": [
        "def remove_vowels(input_string):\n",
        "    # Define the vowels\n",
        "    vowels = \"aeiouAEIOU\"\n",
        "\n",
        "    # Use filter() to keep only non-vowel characters\n",
        "    result = filter(lambda char: char not in vowels, input_string)\n",
        "\n",
        "    # Join the filtered characters into a string and return it\n",
        "    return ''.join(result)\n",
        "\n",
        "# Test the function\n",
        "input_string = \"Hello, World!\"\n",
        "output_string = remove_vowels(input_string)\n",
        "print(f\"Original String: {input_string}\")\n",
        "print(f\"String without vowels: {output_string}\")\n"
      ],
      "metadata": {
        "colab": {
          "base_uri": "https://localhost:8080/"
        },
        "id": "LCHL2J6OExJi",
        "outputId": "a49c620c-664f-4eed-ec4b-4e647aa6e880"
      },
      "execution_count": 13,
      "outputs": [
        {
          "output_type": "stream",
          "name": "stdout",
          "text": [
            "Original String: Hello, World!\n",
            "String without vowels: Hll, Wrld!\n"
          ]
        }
      ]
    },
    {
      "cell_type": "code",
      "source": [],
      "metadata": {
        "id": "JzM9QjqdFuHC"
      },
      "execution_count": null,
      "outputs": []
    },
    {
      "cell_type": "markdown",
      "source": [
        "11) Imagine an accounting routine used in a book shop. It works on a list with sublists, which look like this:\n",
        "\n",
        "Order Number   Book Title and Author               Quantity   Price Per Item\n",
        "\n",
        "34587          Learning Python, Mark Lutz          4          40.95\n",
        "98762          Programing Python, Mark Lutz        5          56.80\n",
        "77226          Head First Python, Paul Barry       3          32.95\n",
        "88112          Einfuhrung in Python, Bernd Klein   3          24.99\n",
        "\n",
        "\n",
        "\n",
        "\n",
        "Write a Python program, which returns a list with 2-tuples. Each tuple consists of the order number and the\n",
        "product of the price per item and the quantity. The product should be increased by 10,- € if the value of the\n",
        "order is smaller than 100,00 €.\n",
        "\n",
        "Write a Python program using lambda and map."
      ],
      "metadata": {
        "id": "RAOMp1iXF0mm"
      }
    },
    {
      "cell_type": "code",
      "source": [
        "# List of orders (Order Number, Book Title and Author, Quantity, Price Per Item)\n",
        "orders = [\n",
        "    [34587, 'Learning Python, Mark Lutz', 4, 40.95],\n",
        "    [98762, 'Programming Python, Mark Lutz', 5, 56.80],\n",
        "    [77226, 'Head First Python, Paul Barry', 3, 32.95],\n",
        "    [88112, 'Einfuhrung in Python, Bernd Klein', 3, 24.99]\n",
        "]\n",
        "\n",
        "# Function to calculate the total cost and apply the 10€ bonus if necessary\n",
        "def calculate_total(order):\n",
        "    order_number, title, quantity, price_per_item = order\n",
        "    total = quantity * price_per_item\n",
        "    if total < 100:\n",
        "        total += 10  # Apply the bonus if total is less than 100€\n",
        "    return (order_number, total)\n",
        "\n",
        "# Use map() with lambda to apply the function to each order\n",
        "result = list(map(lambda order: (order[0], order[2] * order[3] + (10 if order[2] * order[3] < 100 else 0)), orders))\n",
        "\n",
        "# Output the result\n",
        "print(result)\n"
      ],
      "metadata": {
        "colab": {
          "base_uri": "https://localhost:8080/"
        },
        "id": "20XwSujgH6uJ",
        "outputId": "4bf7a55e-de79-4ab6-a13d-9b4c57043360"
      },
      "execution_count": 14,
      "outputs": [
        {
          "output_type": "stream",
          "name": "stdout",
          "text": [
            "[(34587, 163.8), (98762, 284.0), (77226, 108.85000000000001), (88112, 84.97)]\n"
          ]
        }
      ]
    },
    {
      "cell_type": "code",
      "source": [],
      "metadata": {
        "id": "DXDApU7tH7cB"
      },
      "execution_count": null,
      "outputs": []
    }
  ]
}